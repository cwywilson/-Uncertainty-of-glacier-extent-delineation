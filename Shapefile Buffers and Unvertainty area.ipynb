{
 "cells": [
  {
   "cell_type": "code",
   "execution_count": 39,
   "metadata": {},
   "outputs": [
    {
     "name": "stdout",
     "output_type": "stream",
     "text": [
      "Original area (km²): 29.38\n",
      "Positive buffer area (km²): 29.42\n",
      "Negative buffer area (km²): 29.34\n",
      "Area of uncertainty (km²): 0.08\n"
     ]
    }
   ],
   "source": [
    "import geopandas as gpd\n",
    "\n",
    "# Load the shapefile\n",
    "shapefile_path = r\"D:\\All_outline\\Turner1960.shp\"\n",
    "gdf = gpd.read_file(shapefile_path)\n",
    "\n",
    "# Set the CRS to EPSG:32617\n",
    "#gdf = gdf.to_crs(epsg=32617)\n",
    "gdf = gdf.to_crs(epsg=32620)\n",
    "\n",
    "# Calculate the original area\n",
    "original_area = gdf.geometry.unary_union.area / 1000000  # Convert to km²\n",
    "\n",
    "# Create positive buffer\n",
    "positive_buffer = gdf.geometry.buffer(0.5)\n",
    "positive_buffer_area = positive_buffer.unary_union.area / 1000000  # Convert to km²\n",
    "\n",
    "# Create negative buffer\n",
    "negative_buffer = gdf.geometry.buffer(-0.5)\n",
    "negative_buffer_area = negative_buffer.unary_union.area / 1000000  # Convert to km²\n",
    "\n",
    "# Calculate the area of uncertainty\n",
    "uncertainty_area = positive_buffer.unary_union.difference(negative_buffer.unary_union).area / 1000000  # Convert to km²\n",
    "\n",
    "print(f\"Original area (km²): {original_area:.2f}\")\n",
    "print(f\"Positive buffer area (km²): {positive_buffer_area:.2f}\")\n",
    "print(f\"Negative buffer area (km²): {negative_buffer_area:.2f}\")\n",
    "print(f\"Area of uncertainty (km²): {uncertainty_area:.2f}\")"
   ]
  }
 ],
 "metadata": {
  "kernelspec": {
   "display_name": "Python 3",
   "language": "python",
   "name": "python3"
  },
  "language_info": {
   "codemirror_mode": {
    "name": "ipython",
    "version": 3
   },
   "file_extension": ".py",
   "mimetype": "text/x-python",
   "name": "python",
   "nbconvert_exporter": "python",
   "pygments_lexer": "ipython3",
   "version": "3.12.2"
  }
 },
 "nbformat": 4,
 "nbformat_minor": 2
}
